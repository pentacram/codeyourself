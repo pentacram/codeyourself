{
 "cells": [
  {
   "cell_type": "code",
   "execution_count": null,
   "metadata": {},
   "outputs": [],
   "source": [
    "a = '1234'\n",
    "b = []\n",
    "ln = len(a) - 1\n",
    "id = 1\n",
    "c = 1\n",
    "\n",
    "while True:\n",
    "    \n",
    "    c *= a[id]    \n",
    "    ln - 1\n",
    "    \n",
    "    if ln == 0:\n",
    "        if \n",
    "    \n",
    "    "
   ]
  }
 ],
 "metadata": {
  "kernelspec": {
   "display_name": "Python 3",
   "language": "python",
   "name": "python3"
  },
  "language_info": {
   "codemirror_mode": {
    "name": "ipython",
    "version": 3
   },
   "file_extension": ".py",
   "mimetype": "text/x-python",
   "name": "python",
   "nbconvert_exporter": "python",
   "pygments_lexer": "ipython3",
   "version": "3.7.6"
  }
 },
 "nbformat": 4,
 "nbformat_minor": 2
}
